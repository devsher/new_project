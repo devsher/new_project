{
  "nbformat": 4,
  "nbformat_minor": 0,
  "metadata": {
    "colab": {
      "provenance": []
    },
    "kernelspec": {
      "name": "python3",
      "display_name": "Python 3"
    },
    "language_info": {
      "name": "python"
    }
  },
  "cells": [
    {
      "cell_type": "code",
      "execution_count": 1,
      "metadata": {
        "colab": {
          "base_uri": "https://localhost:8080/"
        },
        "id": "tf6nvNWGyNhc",
        "outputId": "e112e673-f5d9-413e-9acd-fbe86af739a9"
      },
      "outputs": [
        {
          "output_type": "stream",
          "name": "stdout",
          "text": [
            "Enter a sentence: hi? i am sherzod\n",
            "Word count: 4\n"
          ]
        }
      ],
      "source": [
        "def count_words(sentence):\n",
        "    words = sentence.split()  # Split the sentence into words\n",
        "    word_count = len(words)  # Count of words\n",
        "    word_occurrences = {}\n",
        "\n",
        "    for word in words:\n",
        "        if word in word_occurrences:\n",
        "            word_occurrences[word] += 1\n",
        "        else:\n",
        "            word_occurrences[word] = 1\n",
        "\n",
        "    return word_count, word_occurrences\n",
        "\n",
        "sentence = input(\"Enter a sentence: \")\n",
        "total_count, word_counts = count_words(sentence)\n",
        "\n",
        "print(\"Word count:\", total_count)\n",
        "print(\"Word occurrences:\")\n",
        "for word, count in word_counts.items():\n",
        "    print(word, \":\", count)"
      ]
    }
  ]
}